{
 "cells": [
  {
   "cell_type": "code",
   "execution_count": 63,
   "metadata": {},
   "outputs": [],
   "source": [
    "# Cell 1: Import libraries\n",
    "import numpy as np\n",
    "import pandas as pd\n",
    "from sklearn.model_selection import train_test_split, GridSearchCV\n",
    "from sklearn.linear_model import LinearRegression\n",
    "from sklearn.ensemble import RandomForestRegressor\n",
    "from sklearn.metrics import mean_squared_error, mean_absolute_error, r2_score\n",
    "import matplotlib.pyplot as plt\n",
    "\n",
    "%matplotlib inline\n"
   ]
  },
  {
   "cell_type": "code",
   "execution_count": 64,
   "metadata": {},
   "outputs": [
    {
     "name": "stdout",
     "output_type": "stream",
     "text": [
      "Features (X) shape: (19794, 8)\n",
      "Target (y) shape: (19794,)\n"
     ]
    }
   ],
   "source": [
    "# Cell 2: Load dataset\n",
    "data = pd.read_csv(\"../data/cleaned_california_housing.csv\")\n",
    "X = data.drop(columns=[\"MedHouseVal\"])\n",
    "y = data[\"MedHouseVal\"]\n",
    "\n",
    "print(\"Features (X) shape:\", X.shape)\n",
    "print(\"Target (y) shape:\", y.shape)\n"
   ]
  },
  {
   "cell_type": "code",
   "execution_count": 65,
   "metadata": {},
   "outputs": [
    {
     "name": "stdout",
     "output_type": "stream",
     "text": [
      "Training set size: (15835, 8)\n",
      "Testing set size: (3959, 8)\n"
     ]
    }
   ],
   "source": [
    "# Cell 3: Split data\n",
    "X_train, X_test, y_train, y_test = train_test_split(X, y, test_size=0.2, random_state=42)\n",
    "print(\"Training set size:\", X_train.shape)\n",
    "print(\"Testing set size:\", X_test.shape)\n"
   ]
  },
  {
   "cell_type": "code",
   "execution_count": 66,
   "metadata": {},
   "outputs": [
    {
     "name": "stdout",
     "output_type": "stream",
     "text": [
      "Linear Regression Performance:\n",
      "MSE: 0.4731, MAE: 0.4988, R²: 0.6162\n"
     ]
    }
   ],
   "source": [
    "# Cell 4: Linear Regression\n",
    "linear_model = LinearRegression()\n",
    "linear_model.fit(X_train, y_train)\n",
    "y_pred_linear = linear_model.predict(X_test)\n",
    "\n",
    "mse_linear = mean_squared_error(y_test, y_pred_linear)\n",
    "mae_linear = mean_absolute_error(y_test, y_pred_linear)\n",
    "r2_linear = r2_score(y_test, y_pred_linear)\n",
    "\n",
    "print(\"Linear Regression Performance:\")\n",
    "print(f\"MSE: {mse_linear:.4f}, MAE: {mae_linear:.4f}, R²: {r2_linear:.4f}\")\n"
   ]
  },
  {
   "cell_type": "code",
   "execution_count": 67,
   "metadata": {},
   "outputs": [
    {
     "name": "stdout",
     "output_type": "stream",
     "text": [
      "Fitting 3 folds for each of 4 candidates, totalling 12 fits\n",
      "Random Forest Performance:\n",
      "MSE: 0.2579, MAE: 0.3272, R²: 0.7908\n"
     ]
    }
   ],
   "source": [
    "# Cell 5: Random Forest Regressor with feature importance extraction\n",
    "rf_model = RandomForestRegressor(random_state=42)\n",
    "param_grid = {\"n_estimators\": [50, 100], \"max_depth\": [None, 10]}\n",
    "grid_search = GridSearchCV(rf_model, param_grid, scoring='neg_mean_squared_error', cv=3, n_jobs=-1, verbose=1)\n",
    "grid_search.fit(X_train, y_train)\n",
    "\n",
    "best_rf_model = grid_search.best_estimator_\n",
    "y_pred_rf = best_rf_model.predict(X_test)\n",
    "\n",
    "# Extracting feature importances\n",
    "feature_importances = pd.DataFrame({\n",
    "    \"Feature\": X.columns,\n",
    "    \"Importance\": best_rf_model.feature_importances_\n",
    "}).sort_values(by=\"Importance\", ascending=False)\n",
    "\n",
    "# Save feature importances\n",
    "feature_importances.to_csv(\"../results/feature_importances/rf_feature_importances.csv\", index=False)\n",
    "\n",
    "mse_rf = mean_squared_error(y_test, y_pred_rf)\n",
    "mae_rf = mean_absolute_error(y_test, y_pred_rf)\n",
    "r2_rf = r2_score(y_test, y_pred_rf)\n",
    "\n",
    "print(\"Random Forest Performance:\")\n",
    "print(f\"MSE: {mse_rf:.4f}, MAE: {mae_rf:.4f}, R²: {r2_rf:.4f}\")\n"
   ]
  },
  {
   "cell_type": "code",
   "execution_count": 68,
   "metadata": {},
   "outputs": [
    {
     "name": "stdout",
     "output_type": "stream",
     "text": [
      "Regression results, metrics, and feature importances saved.\n"
     ]
    }
   ],
   "source": [
    "# Cell 6: Save regression results\n",
    "regression_results = pd.DataFrame({\n",
    "    \"Actual\": y_test,\n",
    "    \"Linear_Predictions\": y_pred_linear,\n",
    "    \"RF_Predictions\": y_pred_rf\n",
    "})\n",
    "regression_results.to_csv(\"../results/regression/regression_predictions.csv\", index=False)\n",
    "\n",
    "metrics = pd.DataFrame({\n",
    "    \"Model\": [\"Linear Regression\", \"Random Forest\"],\n",
    "    \"MSE\": [mse_linear, mse_rf],\n",
    "    \"MAE\": [mae_linear, mae_rf],\n",
    "    \"R²\": [r2_linear, r2_rf]\n",
    "})\n",
    "metrics.to_csv(\"../results/regression/regression_metrics.csv\", index=False)\n",
    "\n",
    "print(\"Regression results, metrics, and feature importances saved.\")\n"
   ]
  }
 ],
 "metadata": {
  "kernelspec": {
   "display_name": "Python 3",
   "language": "python",
   "name": "python3"
  },
  "language_info": {
   "codemirror_mode": {
    "name": "ipython",
    "version": 3
   },
   "file_extension": ".py",
   "mimetype": "text/x-python",
   "name": "python",
   "nbconvert_exporter": "python",
   "pygments_lexer": "ipython3",
   "version": "3.12.2"
  }
 },
 "nbformat": 4,
 "nbformat_minor": 2
}
