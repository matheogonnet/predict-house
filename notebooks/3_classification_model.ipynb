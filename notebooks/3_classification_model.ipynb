{
 "cells": [
  {
   "cell_type": "code",
   "execution_count": 30,
   "metadata": {},
   "outputs": [],
   "source": [
    "# Cell 1: Import libraries\n",
    "import numpy as np\n",
    "import pandas as pd\n",
    "from sklearn.model_selection import train_test_split, GridSearchCV\n",
    "from sklearn.neighbors import KNeighborsClassifier\n",
    "from sklearn.tree import DecisionTreeClassifier\n",
    "from sklearn.metrics import classification_report, confusion_matrix, accuracy_score\n",
    "import matplotlib.pyplot as plt\n",
    "\n",
    "\n",
    "%matplotlib inline\n"
   ]
  },
  {
   "cell_type": "code",
   "execution_count": 31,
   "metadata": {},
   "outputs": [
    {
     "name": "stdout",
     "output_type": "stream",
     "text": [
      "Features (X) shape: (19794, 8)\n",
      "Target (y) shape: (19794,)\n"
     ]
    }
   ],
   "source": [
    "# Cell 2: Load and preprocess dataset\n",
    "data = pd.read_csv(\"../data/cleaned_california_housing.csv\")\n",
    "data[\"Target_Class\"] = pd.qcut(data[\"MedHouseVal\"], q=4, labels=[\"Low\", \"Medium\", \"High\", \"Very High\"])\n",
    "\n",
    "X = data.drop(columns=[\"MedHouseVal\", \"Target_Class\"])\n",
    "y = data[\"Target_Class\"]\n",
    "\n",
    "print(\"Features (X) shape:\", X.shape)\n",
    "print(\"Target (y) shape:\", y.shape)\n"
   ]
  },
  {
   "cell_type": "code",
   "execution_count": 32,
   "metadata": {},
   "outputs": [
    {
     "name": "stdout",
     "output_type": "stream",
     "text": [
      "Training set size: (15835, 8)\n",
      "Testing set size: (3959, 8)\n"
     ]
    }
   ],
   "source": [
    "# Cell 3: Split data\n",
    "X_train, X_test, y_train, y_test = train_test_split(X, y, test_size=0.2, stratify=y, random_state=42)\n",
    "print(\"Training set size:\", X_train.shape)\n",
    "print(\"Testing set size:\", X_test.shape)\n"
   ]
  },
  {
   "cell_type": "code",
   "execution_count": 33,
   "metadata": {},
   "outputs": [
    {
     "name": "stdout",
     "output_type": "stream",
     "text": [
      "Fitting 3 folds for each of 8 candidates, totalling 24 fits\n",
      "KNN Classification Report:\n",
      "              precision    recall  f1-score   support\n",
      "\n",
      "        High       0.27      0.42      0.33       987\n",
      "         Low       0.40      0.41      0.40       991\n",
      "      Medium       0.28      0.25      0.27       991\n",
      "   Very High       0.47      0.26      0.34       990\n",
      "\n",
      "    accuracy                           0.33      3959\n",
      "   macro avg       0.36      0.33      0.33      3959\n",
      "weighted avg       0.36      0.33      0.33      3959\n",
      "\n"
     ]
    }
   ],
   "source": [
    "# Cell 4: K-Nearest Neighbors\n",
    "knn_model = KNeighborsClassifier()\n",
    "param_grid_knn = {\"n_neighbors\": range(3, 11)}\n",
    "grid_search_knn = GridSearchCV(knn_model, param_grid_knn, scoring='accuracy', cv=3, n_jobs=-1, verbose=1)\n",
    "grid_search_knn.fit(X_train, y_train)\n",
    "\n",
    "best_knn_model = grid_search_knn.best_estimator_\n",
    "y_pred_knn = best_knn_model.predict(X_test)\n",
    "\n",
    "print(\"KNN Classification Report:\")\n",
    "print(classification_report(y_test, y_pred_knn))\n"
   ]
  },
  {
   "cell_type": "code",
   "execution_count": 34,
   "metadata": {},
   "outputs": [
    {
     "name": "stdout",
     "output_type": "stream",
     "text": [
      "Fitting 3 folds for each of 6 candidates, totalling 18 fits\n"
     ]
    },
    {
     "name": "stdout",
     "output_type": "stream",
     "text": [
      "Decision Tree Classification Report:\n",
      "              precision    recall  f1-score   support\n",
      "\n",
      "        High       0.56      0.66      0.61       987\n",
      "         Low       0.79      0.79      0.79       991\n",
      "      Medium       0.62      0.60      0.61       991\n",
      "   Very High       0.80      0.69      0.75       990\n",
      "\n",
      "    accuracy                           0.69      3959\n",
      "   macro avg       0.70      0.69      0.69      3959\n",
      "weighted avg       0.70      0.69      0.69      3959\n",
      "\n"
     ]
    }
   ],
   "source": [
    "# Cell 5: Decision Tree Classifier\n",
    "dt_model = DecisionTreeClassifier(random_state=42)\n",
    "param_grid_dt = {\"max_depth\": [None, 5, 10], \"min_samples_split\": [2, 5]}\n",
    "grid_search_dt = GridSearchCV(dt_model, param_grid_dt, scoring='accuracy', cv=3, n_jobs=-1, verbose=1)\n",
    "grid_search_dt.fit(X_train, y_train)\n",
    "\n",
    "best_dt_model = grid_search_dt.best_estimator_\n",
    "y_pred_dt = best_dt_model.predict(X_test)\n",
    "\n",
    "print(\"Decision Tree Classification Report:\")\n",
    "print(classification_report(y_test, y_pred_dt))\n"
   ]
  },
  {
   "cell_type": "code",
   "execution_count": 35,
   "metadata": {},
   "outputs": [
    {
     "name": "stdout",
     "output_type": "stream",
     "text": [
      "Classification results and metrics saved.\n"
     ]
    }
   ],
   "source": [
    "# Cell 6: Save classification results\n",
    "classification_results = pd.DataFrame({\n",
    "    \"Actual\": y_test,\n",
    "    \"KNN_Predictions\": y_pred_knn,\n",
    "    \"DT_Predictions\": y_pred_dt\n",
    "})\n",
    "classification_results.to_csv(\"../results/classification/classification_predictions.csv\", index=False)\n",
    "\n",
    "metrics = pd.DataFrame({\n",
    "    \"Model\": [\"KNN\", \"Decision Tree\"],\n",
    "    \"Accuracy\": [accuracy_score(y_test, y_pred_knn), accuracy_score(y_test, y_pred_dt)]\n",
    "})\n",
    "metrics.to_csv(\"../results/classification/classification_metrics.csv\", index=False)\n",
    "\n",
    "print(\"Classification results and metrics saved.\")\n"
   ]
  }
 ],
 "metadata": {
  "kernelspec": {
   "display_name": "Python 3",
   "language": "python",
   "name": "python3"
  },
  "language_info": {
   "codemirror_mode": {
    "name": "ipython",
    "version": 3
   },
   "file_extension": ".py",
   "mimetype": "text/x-python",
   "name": "python",
   "nbconvert_exporter": "python",
   "pygments_lexer": "ipython3",
   "version": "3.12.2"
  }
 },
 "nbformat": 4,
 "nbformat_minor": 2
}
